{
 "cells": [
  {
   "cell_type": "markdown",
   "metadata": {},
   "source": [
    "## Buzz Prediction in Twitter Data\n",
    "### Matthew Caulfield\n",
    "\n",
    "### Abstract \n",
    "The goal of this project is to determine if a buzz event occurred about a topic on twitter in a seven-day window.  A paper by the University of Grenoble Joseph Fourier Laboratory of Information found they were able to predict the occurrence of a buzz event with approximately 90 percent accuracy using a random forest on the same data set. This paper was able to accurately predict the occurrence of a buzz event 93 percent of the time using a random forest after transforming the data. This paper also took into consideration run time [1]. \n",
    "\n",
    "### Introduction \n",
    "The goal of this data is to classify instances of twitter data to determine if a buzz event occured. The two classes for the data are buzz event and no buzz event. To do this the following things are examined about a topic over seven consecutive days: number of created discussions, author increase, attention Level measured with number of authors, burstiness level, number of atomic containers, attention level measured by number of contributors, contribution sparseness, author interactions, number of authors, and average discussion length. Using social media data to learn about societal interests is an important part of modern data science and twitter is a large social media platform. Being able to creat models about twitter usage is a useful tool. Some of the code used to run the tests are based off of code provided by Nick Webb to implement scikit learn. \n",
    "\n",
    "\n",
    "### Motivation \n",
    "The analysis of social media is currently being done by both the United States government and companies. Recently the United States military announced a project in which they were tracking how popular movements arise using social media. To do this they plan on analyzing 350 Billion posts. This research can be used both offensively and defensively for the United States Military. For example, the US military may use this information to create their own popular movement in a rival country or to defend the US from a rival country creating a popular movement in the US[2]. Companies use social media analyses to make money. There are multiple hedge funds who use twitter sentiments to predict stock movement [3], social media companies analyze user data to better target ads, and by 2025 the social media analytic industry is projected to reach $7.1 Billion[4].\n",
    "\n",
    "With all of this in mind I think that it is very important to understand and analyze social media data. I chose this dataset because I thought it would be a good introduction to machine learning and data analytics on social media data. While the analysis being done on this data is just categorizing time intervals as whether a buzz event has occurred and does not cover user sentiment, it is a good introduction to social media data. This data set is learned on twitter data and demonstrates which attributes to look at when analyzing twitter data and social media data. This data set has been used by the University of Grenoble Joseph Fourier Laboratory of Information, where they found a random forest was able to categorize the data with an accuracy of 90 percent. \n",
    "\n",
    "### Data\n",
    "The data was taken from the UC Irvine Machine Learning Repository and was compiled by the BestOfMedia Group. The data came with both Twitter and Tom's Hardware data, but this project is focused on prediction over the Twitter dataset. The data has no missing data in it contains 77 Attributes, 1 Class, and 140,707 rows of data. The data is taken over the course of seven consecutive days per instance. The 77 attributes can be broken down into 11 attributes taken over 11 days where each day is its own attribute. The 11 attributes are number of created discussions, author increase, attention Level measured with number of authors, burstiness level, number of atomic containers, attention level measured by number of contributors, contribution sparseness, author interactions, number of authors, and average discussion length. The one class is either a buzz event has occurred during a seven-day interval or no buzz event occurred, 81 percent of the instances have no buzz event and 19 percent of the instances have a buzz event occur. There is one research paper written on the data by the University of Grenoble Joseph Fourier Laboratory of Information, they found that with a random forest classifier they were able to accurately classify the data 90 percent of the time.\n",
    "\n",
    "### Experiments\n",
    "The first thing done to the data was applied a wide range of algorithms to the raw data. It did not make sense to normalize the data because multiple attributes covered the same topic but were over different time periods so the non-normalized number of unique contributors may be important. Using the raw data also gave a baseline of both time and accuracy. \n"
   ]
  },
  {
   "cell_type": "code",
   "execution_count": 1,
   "metadata": {},
   "outputs": [],
   "source": [
    "%matplotlib inline\n",
    "\n",
    "# Pandas is an important data manipulation library\n",
    "# You don't have to use it for your project, but I include it\n",
    "# here so you know about it.\n",
    "import time\n",
    "import pandas\n",
    "import matplotlib.pyplot as plt\n",
    "from scipy import stats\n",
    "\n",
    "# Import models\n",
    "\n",
    "from sklearn import model_selection\n",
    "from sklearn.linear_model import LogisticRegression\n",
    "from sklearn.tree import DecisionTreeClassifier\n",
    "from sklearn.neighbors import KNeighborsClassifier\n",
    "from sklearn.discriminant_analysis import LinearDiscriminantAnalysis\n",
    "from sklearn.naive_bayes import GaussianNB\n",
    "from sklearn.svm import SVC\n",
    "from sklearn.ensemble import RandomForestClassifier\n",
    "from sklearn.neural_network import MLPClassifier\n",
    "from sklearn.dummy import DummyClassifier\n",
    "\n",
    "# And import the feature selection mechanism\n",
    "\n",
    "from sklearn.feature_selection import RFE\n",
    "\n",
    "#NCD is Number of Created Discussions\n",
    "#AI is Author Increase\n",
    "#AS(NA) is attention Level measured with number of authors\n",
    "#BL is Burstiness Level\n",
    "#NAC is Number of Atomic Containers\n",
    "#AS(NAC) is attention level measured by number of contibuters\n",
    "#CS is contribution Sparsness\n",
    "#AT is author interactions\n",
    "#NA is number of authors\n",
    "#ADL is average discussion length\n",
    "#NAD is average discussion length by number of discussions\n",
    "names =  ['NCD0', 'NCD1', 'NCD2', 'NCD3', 'NCD4', 'NCD5', 'NCD6', 'AI0', 'AI1','AI2','AI3','AI4','AI5','AI6',\n",
    "          'AS(NA)0','AS(NA)1','AS(NA)2','AS(NA)3','AS(NA)4','AS(NA)5','AS(NA)6', 'BL0','BL1','BL2','BL3','BL4','BL5','BL06',\n",
    "         'NAC0','NAC1','NAC2','NAC3','NAC4','NAC5','NAC6', 'AS(NAC)0', 'AS(NAC)1','AS(NAC)2','AS(NAC)3','AS(NAC)4','AS(NAC)5',\n",
    "          'AS(NAC)6','CS0','CS1','CS2','CS3','CS4','CS5','CS6','AT0', 'AT1','AT2','AT3','AT4','AT5','AT6',\n",
    "         'NA0','NA1','NA2','NA3','NA4','NA5','NA6','ADL0','ADL1','ADL2','ADL3','ADL4','ADL5','ADL6', 'NAD0','NAD1','NAD2',\n",
    "         'NAD3','NAD4','NAD5','NAD6','buzz']\n",
    "\n",
    "dataframe = pandas.read_csv('Twitter-Absolute-Sigma-500.csv', names=names)\n",
    "\n"
   ]
  },
  {
   "cell_type": "code",
   "execution_count": 2,
   "metadata": {
    "scrolled": true
   },
   "outputs": [
    {
     "name": "stdout",
     "output_type": "stream",
     "text": [
      "ZR: 0.802604 (0.002867)\n",
      "time 1 2.052155017852783\n",
      "LR: 0.965787 (0.001454)\n",
      "time 1 481.24313139915466\n",
      "KN5: 0.963648 (0.001622)\n",
      "time 1 268.13467383384705\n",
      "KN7: 0.964536 (0.001514)\n",
      "time 1 284.43247389793396\n",
      "DT: 0.950372 (0.001268)\n",
      "time 1 80.72607183456421\n",
      "NB: 0.945561 (0.001970)\n",
      "time 1 5.7614336013793945\n",
      "RF: 0.967137 (0.001038)\n",
      "time 1 530.9597363471985\n",
      "NN: 0.962760 (0.002993)\n",
      "time 1 171.5549030303955\n"
     ]
    },
    {
     "data": {
      "image/png": "[encoded data removed]",
      "text/plain": [
       "<Figure size 432x288 with 1 Axes>"
      ]
     },
     "metadata": {
      "needs_background": "light"
     },
     "output_type": "display_data"
    },
    {
     "name": "stdout",
     "output_type": "stream",
     "text": [
      "\n",
      "\n",
      "***Examining Features***\n",
      "\n",
      "\n",
      "Feature names: ['NCD0', 'NCD1', 'NCD2', 'NCD3', 'NCD4', 'NCD5', 'NCD6', 'AI0', 'AI1', 'AI2', 'AI3', 'AI4', 'AI5', 'AI6', 'AS(NA)0', 'AS(NA)1', 'AS(NA)2', 'AS(NA)3', 'AS(NA)4', 'AS(NA)5', 'AS(NA)6', 'BL0', 'BL1', 'BL2', 'BL3', 'BL4', 'BL5', 'BL06', 'NAC0', 'NAC1', 'NAC2', 'NAC3', 'NAC4', 'NAC5', 'NAC6', 'AS(NAC)0', 'AS(NAC)1', 'AS(NAC)2', 'AS(NAC)3', 'AS(NAC)4', 'AS(NAC)5', 'AS(NAC)6', 'CS0', 'CS1', 'CS2', 'CS3', 'CS4', 'CS5', 'CS6', 'AT0', 'AT1', 'AT2', 'AT3', 'AT4', 'AT5', 'AT6', 'NA0', 'NA1', 'NA2', 'NA3', 'NA4', 'NA5', 'NA6', 'ADL0', 'ADL1', 'ADL2', 'ADL3', 'ADL4', 'ADL5', 'ADL6', 'NAD0', 'NAD1', 'NAD2', 'NAD3', 'NAD4', 'NAD5', 'NAD6', 'buzz']\n",
      "Feature ranking: [ 1  1  1  1 15  1  1  1 23 24  6  3 20 10 33 32 28 27 30 39 26  1  1  1\n",
      "  1  1  1  1  1  1 31  8  1  5  1 38 36 34 35 37 40 29  1  1  1  1  1  1\n",
      "  1  1 18 19  2 16 21  1  1  4 22  7  1 11 17  1  1 12 13  1  9  1 25  1\n",
      "  1  1 14  1  1]\n"
     ]
    }
   ],
   "source": [
    "\n",
    "\n",
    "# get data from data frames, as numpy arrays\n",
    "# note that by convention, we use X for input features\n",
    "# and lower case y for the target class\n",
    "array = dataframe.values\n",
    "X = array[:,0:77]\n",
    "y = array[:,77]\n",
    "\n",
    "# prepare configuration for cross validation test harness\n",
    "seed = 1\n",
    "\n",
    "# prepare models\n",
    "models = []\n",
    "models.append(('ZR', DummyClassifier(strategy=\"most_frequent\")))\n",
    "models.append(('LR', LogisticRegression(solver='liblinear')))\n",
    "models.append(('KN5', KNeighborsClassifier()))\n",
    "models.append(('KN7', KNeighborsClassifier(n_neighbors=7)))\n",
    "models.append(('DT', DecisionTreeClassifier()))\n",
    "models.append(('NB', GaussianNB()))\n",
    "models.append(('RF',RandomForestClassifier(n_estimators=100)))\n",
    "models.append(('NN',MLPClassifier(solver='lbfgs', alpha=1e-5, hidden_layer_sizes=(5, 2), random_state=1)))\n",
    "\n",
    "# evaluate each model in turn\n",
    "# note that I'm going to run through each model above\n",
    "# performing a 10-fold cross-validation each time\n",
    "# (n_splits = 10), specifying 'accuracy' as my measure\n",
    "\n",
    "results = []\n",
    "classifiers = []\n",
    "scoring = 'accuracy'\n",
    "timeList = []\n",
    "for name, model in models:\n",
    "\tt1 = time.time()\n",
    "\tkfold = model_selection.KFold(n_splits=10, random_state=seed, shuffle=True)\n",
    "\tcv_results = model_selection.cross_val_score(model, X, y, cv=kfold, scoring=scoring)\n",
    "\tresults.append(cv_results)\n",
    "\tclassifiers.append(name)\n",
    "\tmsg = \"%s: %f (%f)\" % (name, cv_results.mean(), cv_results.std())\n",
    "\tprint(msg)\n",
    "\telapsed = time.time() - t1\n",
    "\tprint('time 1', elapsed)\n",
    "\ttimeList.append(elapsed)\n",
    "    \n",
    "# boxplot algorithm comparison\n",
    "\n",
    "fig = plt.figure()\n",
    "fig.suptitle('Algorithm Comparison')\n",
    "ax = fig.add_subplot(111)\n",
    "plt.boxplot(results)\n",
    "ax.set_xticklabels(classifiers)\n",
    "plt.show()\n",
    "\n",
    "print('\\n\\n***Examining Features***\\n\\n')\n",
    "\n",
    "log = LogisticRegression(solver='liblinear')\n",
    "rfe = RFE(estimator=log, step=1)\n",
    "rfe.fit(X, y)\n",
    "print(\"Feature names:\",names)\n",
    "print(\"Feature ranking:\",rfe.ranking_)\n",
    "\n",
    "\n",
    "\n",
    "\n",
    "\n"
   ]
  },
  {
   "cell_type": "markdown",
   "metadata": {},
   "source": [
    "### Experiment Continued\n",
    "The next thing done was to find the standard deviation of each attribute class, like number of authors, over the seven-day period per instance. This dramatically improved the run time but the accuracy per algorithm was slightly lower."
   ]
  },
  {
   "cell_type": "code",
   "execution_count": 3,
   "metadata": {},
   "outputs": [
    {
     "name": "stdout",
     "output_type": "stream",
     "text": [
      "ZR: 0.802604 (0.002867)\n",
      "elapsed 0.4160315990447998\n",
      "LR: 0.921113 (0.001627)\n",
      "elapsed 19.55847191810608\n",
      "KN5: 0.920281 (0.001709)\n",
      "elapsed 9.92374587059021\n",
      "DT: 0.910872 (0.002368)\n",
      "elapsed 15.700180768966675\n",
      "NB: 0.923977 (0.002224)\n",
      "elapsed 1.3971052169799805\n",
      "RF: 0.936847 (0.001669)\n",
      "elapsed 279.2480049133301\n",
      "NN: 0.926748 (0.001824)\n",
      "elapsed 113.06951069831848\n"
     ]
    },
    {
     "data": {
      "image/png": "[encoded data removed]",
      "text/plain": [
       "<Figure size 432x288 with 1 Axes>"
      ]
     },
     "metadata": {
      "needs_background": "light"
     },
     "output_type": "display_data"
    },
    {
     "name": "stdout",
     "output_type": "stream",
     "text": [
      "\n",
      "\n",
      "***Examining Features***\n",
      "\n",
      "\n",
      "Feature names: ['NCD', 'AI', 'ASNAS', 'BL', 'NAC', 'ASNAC', 'CS', 'AT', 'NA', 'ADL', 'NAD', 'Buzz']\n",
      "Feature ranking: [2 3 5 1 1 6 1 1 4 1 7]\n"
     ]
    }
   ],
   "source": [
    "#Create standard deviation of each attribute over course of seven days\n",
    "NCDArray = array[:, 0:6]\n",
    "AIArray = array[:, 7:13]\n",
    "ASNAArray = array[:,14:20]\n",
    "BLArray = array[:, 21:27]\n",
    "NACArray= array[:, 28:34]\n",
    "ASNACArray = array[:, 35:41]\n",
    "CSArray = array[:, 42:48]\n",
    "ATArray = array[:, 49:55]\n",
    "NAArray = array[:, 56:62]\n",
    "ADLArray = array[:, 63:69]\n",
    "NADArray = array[:, 70:76]\n",
    "\n",
    "NCDSTD = NCDArray.std(axis = 1)\n",
    "AISTD = AIArray.std(axis = 1)\n",
    "ASNASTD = ASNAArray.std(axis = 1)\n",
    "BLSTD = BLArray.std(axis = 1)\n",
    "NACSTD = NACArray.std(axis = 1)\n",
    "ASNACSTD = ASNACArray.std(axis = 1)\n",
    "CSSTD = CSArray.std(axis = 1)\n",
    "ATSTD = ATArray.std(axis = 1)\n",
    "NASTD = NAArray.std(axis = 1)\n",
    "ADLSTD = ADLArray.std(axis = 1)\n",
    "NADSTD = NADArray.std(axis = 1)\n",
    "buzzCol = array[:, 77]\n",
    "\n",
    "\n",
    "stdNames = ['NCD', 'AI', 'ASNAS', 'BL', 'NAC', 'ASNAC', 'CS', 'AT', 'NA', 'ADL', 'NAD', 'Buzz']\n",
    "stdData = {'NCD':NCDSTD, 'AI':AISTD, 'ASNAS':ASNASTD, 'BL':BLSTD, 'NAC':NACSTD, 'ASNAC':ASNACSTD, \n",
    "           'CS':CSSTD, 'AT':ATSTD, 'NA':NASTD, 'ADL':ADLSTD, 'NAD':NADSTD, 'Buzz':buzzCol}\n",
    "stdDF =  pandas.DataFrame(stdData)\n",
    "\n",
    "stdArray = stdDF.values\n",
    "X = stdArray[:,0:11]\n",
    "y = stdArray[:,11]\n",
    "\n",
    "\n",
    "# prepare configuration for cross validation test harness\n",
    "seed = 1\n",
    "\n",
    "# prepare models\n",
    "models = []\n",
    "models.append(('ZR', DummyClassifier(strategy=\"most_frequent\")))\n",
    "models.append(('LR', LogisticRegression(solver='liblinear')))\n",
    "models.append(('KN5', KNeighborsClassifier()))\n",
    "models.append(('DT', DecisionTreeClassifier()))\n",
    "models.append(('NB', GaussianNB()))\n",
    "models.append(('RF',RandomForestClassifier(n_estimators=100)))\n",
    "models.append(('NN',MLPClassifier(solver='lbfgs', alpha=1e-5, hidden_layer_sizes=(5, 2), random_state=1)))\n",
    "\n",
    "# evaluate each model in turn\n",
    "# note that I'm going to run through each model above\n",
    "# performing a 10-fold cross-validation each time\n",
    "# (n_splits = 10), specifying 'accuracy' as my measure\n",
    "\n",
    "\n",
    "resultsSTD = []\n",
    "classifiersSTD = []\n",
    "timeListSTD = []\n",
    "scoring = 'accuracy'\n",
    "for name, model in models:\n",
    "\tt2 = time.time()\n",
    "\tkfold = model_selection.KFold(n_splits=10, random_state=seed, shuffle=True)\n",
    "\tcv_results = model_selection.cross_val_score(model, X, y, cv=kfold, scoring=scoring)\n",
    "\tresultsSTD.append(cv_results)\n",
    "\tclassifiersSTD.append(name)\n",
    "\tmsg = \"%s: %f (%f)\" % (name, cv_results .mean(), cv_results .std())\n",
    "\tprint(msg)\n",
    "\telapsed2 = time.time() - t2\n",
    "\tprint('elapsed', elapsed2)\n",
    "\ttimeListSTD.append(elapsed)\n",
    "    \n",
    "# boxplot algorithm comparison\n",
    "\n",
    "fig = plt.figure()\n",
    "fig.suptitle('Algorithm Comparison')\n",
    "ax = fig.add_subplot(111)\n",
    "plt.boxplot(resultsSTD)\n",
    "ax.set_xticklabels(classifiersSTD)\n",
    "plt.show()\n",
    "   \n",
    "print('\\n\\n***Examining Features***\\n\\n')\n",
    "\n",
    "log = LogisticRegression(solver='liblinear')\n",
    "rfe = RFE(estimator=log, step=1)\n",
    "rfe.fit(X, y)\n",
    "print(\"Feature names:\",stdNames)\n",
    "print(\"Feature ranking:\",rfe.ranking_)\n",
    "\n"
   ]
  },
  {
   "cell_type": "markdown",
   "metadata": {},
   "source": [
    "### Experiment Continued\n",
    "After this, all but the top five standard deviation attributes were removed, and all the algorithms were run again. This was primarily done to improve naive bays and other algorithms that improve with less attributes. This however backfired and the accuracy plummeted, and naive bays performed much worse than zero r. "
   ]
  },
  {
   "cell_type": "code",
   "execution_count": 4,
   "metadata": {},
   "outputs": [
    {
     "name": "stdout",
     "output_type": "stream",
     "text": [
      "ZR: 0.802604 (0.002867)\n",
      "elapsed 0.24301838874816895\n",
      "LR: 0.920523 (0.001931)\n",
      "elapsed 5.798435211181641\n",
      "KN5: 0.919947 (0.002177)\n",
      "elapsed 5.220398664474487\n",
      "DT: 0.906799 (0.002075)\n",
      "elapsed 4.98336935043335\n",
      "NB: 0.467020 (0.004130)\n",
      "elapsed 0.8480629920959473\n",
      "RF: 0.921880 (0.002315)\n",
      "elapsed 159.91603064537048\n",
      "NN: 0.927701 (0.001778)\n",
      "elapsed 81.46314811706543\n"
     ]
    },
    {
     "data": {
      "image/png": "[encoded data removed]",
      "text/plain": [
       "<Figure size 432x288 with 1 Axes>"
      ]
     },
     "metadata": {
      "needs_background": "light"
     },
     "output_type": "display_data"
    },
    {
     "name": "stdout",
     "output_type": "stream",
     "text": [
      "\n",
      "\n",
      "***Examining Features***\n",
      "\n",
      "\n",
      "Feature names: ['BL', 'NAC', 'CS', 'AT', 'ADL', 'Buzz']\n",
      "Feature ranking: [1 4 1 2 3]\n"
     ]
    }
   ],
   "source": [
    "stdDFDrop = stdDF.drop(columns=['NCD', 'AI', 'ASNAS', 'ASNAC', 'NA', 'NAD'])\n",
    "stdDropNames = ['BL', 'NAC', 'CS', 'AT', 'ADL', 'Buzz']\n",
    "\n",
    "stdDropArray = stdDFDrop.values\n",
    "X = stdDropArray[:,0:5]\n",
    "y = stdDropArray[:,5]\n",
    "\n",
    "# prepare configuration for cross validation test harness\n",
    "seed = 1\n",
    "\n",
    "# prepare models\n",
    "models = []\n",
    "models.append(('ZR', DummyClassifier(strategy=\"most_frequent\")))\n",
    "models.append(('LR', LogisticRegression(solver='liblinear')))\n",
    "models.append(('KN5', KNeighborsClassifier()))\n",
    "models.append(('DT', DecisionTreeClassifier()))\n",
    "models.append(('NB', GaussianNB()))\n",
    "models.append(('RF',RandomForestClassifier(n_estimators=100)))\n",
    "models.append(('NN',MLPClassifier(solver='lbfgs', alpha=1e-5, hidden_layer_sizes=(5, 2), random_state=1)))\n",
    "# evaluate each model in turn\n",
    "# note that I'm going to run through each model above\n",
    "# performing a 10-fold cross-validation each time\n",
    "# (n_splits = 10), specifying 'accuracy' as my measure\n",
    "\n",
    "resultsSTDDrop = []\n",
    "classifiersSTDDrop = []\n",
    "timeListSTDDrop = []\n",
    "scoring = 'accuracy'\n",
    "for name, model in models:\n",
    "\tt2 = time.time()\n",
    "\tkfold = model_selection.KFold(n_splits=10, random_state=seed, shuffle=True)\n",
    "\tcv_results = model_selection.cross_val_score(model, X, y, cv=kfold, scoring=scoring)\n",
    "\tresultsSTDDrop.append(cv_results)\n",
    "\tclassifiersSTDDrop.append(name)\n",
    "\tmsg = \"%s: %f (%f)\" % (name, cv_results .mean(), cv_results .std())\n",
    "\tprint(msg)\n",
    "\telapsed2 = time.time() - t2\n",
    "\tprint('elapsed', elapsed2)\n",
    "\ttimeListSTDDrop.append(elapsed)\n",
    "\n",
    "        \n",
    "# boxplot algorithm comparison\n",
    "\n",
    "fig = plt.figure()\n",
    "fig.suptitle('Algorithm Comparison')\n",
    "ax = fig.add_subplot(111)\n",
    "plt.boxplot(resultsSTDDrop)\n",
    "ax.set_xticklabels(classifiersSTDDrop)\n",
    "plt.show()\n",
    "\n",
    "print('\\n\\n***Examining Features***\\n\\n')\n",
    "\n",
    "log = LogisticRegression(solver='liblinear')\n",
    "rfe = RFE(estimator=log, step=1)\n",
    "rfe.fit(X, y)\n",
    "print(\"Feature names:\",stdDropNames)\n",
    "print(\"Feature ranking:\",rfe.ranking_)\n",
    "\n"
   ]
  },
  {
   "cell_type": "markdown",
   "metadata": {},
   "source": [
    "### Experiment Continued\n",
    "The final thing done to the data was to use the top 5 attributes found from the standard deviation tests, burstiness level, number of atomic containers, contribution sparseness, author interactions, and average discussion length. Once these were found their non-standard deviated data so for example burstiness level day 1, burstiness level day2, et cetera was used. "
   ]
  },
  {
   "cell_type": "code",
   "execution_count": 5,
   "metadata": {},
   "outputs": [
    {
     "name": "stdout",
     "output_type": "stream",
     "text": [
      "ZR: 0.802604 (0.002867)\n",
      "elapsed 1.0010693073272705\n",
      "LR: 0.965830 (0.001568)\n",
      "elapsed 94.5871148109436\n",
      "KN5: 0.963925 (0.001372)\n",
      "elapsed 58.77342081069946\n",
      "DT: 0.948610 (0.002065)\n",
      "elapsed 26.06096053123474\n",
      "NB: 0.465144 (0.003372)\n",
      "elapsed 3.2332446575164795\n",
      "RF: 0.966420 (0.001324)\n",
      "elapsed 247.90551328659058\n",
      "NN: 0.802590 (0.002858)\n",
      "elapsed 13.42099404335022\n"
     ]
    },
    {
     "data": {
      "image/png": "[encoded data removed]",
      "text/plain": [
       "<Figure size 432x288 with 1 Axes>"
      ]
     },
     "metadata": {
      "needs_background": "light"
     },
     "output_type": "display_data"
    },
    {
     "name": "stdout",
     "output_type": "stream",
     "text": [
      "\n",
      "\n",
      "***Examining Features***\n",
      "\n",
      "\n"
     ]
    },
    {
     "name": "stderr",
     "output_type": "stream",
     "text": [
      "C:\\Users\\Matt\\Anaconda3\\lib\\site-packages\\sklearn\\svm\\base.py:922: ConvergenceWarning: Liblinear failed to converge, increase the number of iterations.\n",
      "  \"the number of iterations.\", ConvergenceWarning)\n"
     ]
    },
    {
     "name": "stdout",
     "output_type": "stream",
     "text": [
      "Feature names: ['BL0', 'BL1', 'BL2', 'BL3', 'BL4', 'BL5', 'BL06', 'NAC0', 'NAC1', 'NAC2', 'NAC3', 'NAC4', 'NAC5', 'NAC6', 'CS0', 'CS1', 'CS2', 'CS3', 'CS4', 'CS5', 'CS6', 'AT0', 'AT1', 'AT2', 'AT3', 'AT4', 'AT5', 'AT6', 'ADL0', 'ADL1', 'ADL2', 'ADL3', 'ADL4', 'ADL5', 'ADL6', 'buzz']\n",
      "Feature ranking: [ 1  1  1  1  1  1  1  4  7 12 18 17 14  8  1  1  1  9 10  2  1 16  1 13\n",
      " 15  6  1  1 19  1 11  3  5  1  1]\n"
     ]
    }
   ],
   "source": [
    "dropNames =  ['BL0','BL1','BL2','BL3','BL4','BL5','BL06', 'NAC0','NAC1','NAC2','NAC3','NAC4','NAC5','NAC6', 'CS0','CS1',\n",
    "              'CS2','CS3','CS4','CS5','CS6','AT0', 'AT1','AT2','AT3','AT4','AT5','AT6',\n",
    "        'ADL0','ADL1','ADL2','ADL3','ADL4','ADL5','ADL6', 'buzz']\n",
    "\n",
    "\n",
    "dFDrop = dataframe.drop(columns=['NCD0', 'NCD1', 'NCD2', 'NCD3', 'NCD4', 'NCD5', 'NCD6', 'AI0', 'AI1','AI2',\n",
    "                                 'AI3','AI4','AI5','AI6','AS(NA)0','AS(NA)1','AS(NA)2','AS(NA)3','AS(NA)4',\n",
    "                                 'AS(NA)5','AS(NA)6', 'AS(NAC)0', 'AS(NAC)1','AS(NAC)2','AS(NAC)3','AS(NAC)4',\n",
    "                                 'AS(NAC)5', 'NA0','NA1','NA2','NA3','NA4','NA5','NA6','AS(NAC)6','NAD0','NAD1',\n",
    "                                 'NAD2', 'NAD3','NAD4','NAD5','NAD6'])\n",
    "\n",
    "\n",
    "dropArray = dFDrop.values\n",
    "X = dropArray[:,0:35]\n",
    "y = dropArray[:,35]\n",
    "\n",
    "# prepare configuration for cross validation test harness\n",
    "seed = 1\n",
    "\n",
    "# prepare models\n",
    "models = []\n",
    "models.append(('ZR', DummyClassifier(strategy=\"most_frequent\")))\n",
    "models.append(('LR', LogisticRegression(solver='liblinear')))\n",
    "models.append(('KN5', KNeighborsClassifier()))\n",
    "models.append(('DT', DecisionTreeClassifier()))\n",
    "models.append(('NB', GaussianNB()))\n",
    "models.append(('RF',RandomForestClassifier(n_estimators=100)))\n",
    "models.append(('NN',MLPClassifier(solver='lbfgs', alpha=1e-5, hidden_layer_sizes=(5, 2), random_state=1)))\n",
    "\n",
    "# evaluate each model in turn\n",
    "# note that I'm going to run through each model above\n",
    "# performing a 10-fold cross-validation each time\n",
    "# (n_splits = 10), specifying 'accuracy' as my measure\n",
    "\n",
    "timeListDrop = []\n",
    "resultsDrop = []\n",
    "classifiersDrop = []\n",
    "scoring = 'accuracy'\n",
    "for name, model in models:\n",
    "\tt2 = time.time()\n",
    "\tkfold = model_selection.KFold(n_splits=10, random_state=seed, shuffle=True)\n",
    "\tcv_results = model_selection.cross_val_score(model, X, y, cv=kfold, scoring=scoring)\n",
    "\tresultsDrop.append(cv_results)\n",
    "\tclassifiersDrop.append(name)\n",
    "\tmsg = \"%s: %f (%f)\" % (name, cv_results.mean(), cv_results.std())\n",
    "\tprint(msg)\n",
    "\telapsed2 = time.time() - t2\n",
    "\tprint('elapsed', elapsed2)\n",
    "\ttimeListDrop.append(elapsed)\n",
    "    \n",
    "# boxplot algorithm comparison\n",
    "\n",
    "fig = plt.figure()\n",
    "fig.suptitle('Algorithm Comparison')\n",
    "ax = fig.add_subplot(111)\n",
    "plt.boxplot(resultsDrop)\n",
    "ax.set_xticklabels(classifiersDrop)\n",
    "plt.show()\n",
    "   \n",
    "print('\\n\\n***Examining Features***\\n\\n')\n",
    "\n",
    "log = LogisticRegression(solver='liblinear')\n",
    "rfe = RFE(estimator=log, step=1)\n",
    "rfe.fit(X, y)\n",
    "print(\"Feature names:\",dropNames)\n",
    "print(\"Feature ranking:\",rfe.ranking_)\n",
    "\n",
    "\n",
    "\n"
   ]
  },
  {
   "cell_type": "markdown",
   "metadata": {},
   "source": [
    "### Experiment Continued\n",
    "To compare results t-tests were performed on the most accurate and most time efficient models to decide which model performed best overall. \n"
   ]
  },
  {
   "cell_type": "code",
   "execution_count": 7,
   "metadata": {},
   "outputs": [
    {
     "name": "stdout",
     "output_type": "stream",
     "text": [
      "\n",
      "***Performing t-tests***\n",
      "\n",
      "\n",
      "P-Val between Random Forest Raw Data and 5NN 35-attribute data: 0.00\n",
      "reject null hypothesis\n",
      "\n"
     ]
    }
   ],
   "source": [
    "print('\\n***Performing t-tests***\\n\\n')\n",
    "\n",
    "    \n",
    "ttest,pval = stats.ttest_rel(results[6], resultsDrop[2])\n",
    "print('P-Val between Random Forest Raw Data and 5NN 35-attribute data: %.2f' % pval)\n",
    "\n",
    "if pval<0.05:\n",
    "    print(\"reject null hypothesis\")\n",
    "else:\n",
    "    print(\"accept null hypothesis\") \n",
    "\n",
    "print()    \n",
    "    \n",
    "\n"
   ]
  },
  {
   "cell_type": "markdown",
   "metadata": {},
   "source": [
    "### Experiment Continued\n",
    "\n",
    "The algorithms used by this expirement were zero r as a baseline, linear regression, k nearest neighbors with k equal to 5, a decision tree, naive bayes, random forest, and a neural network. Linear regression was chosen because the raw data has a large amount of attributes. Linear regression works well on large amounts of attributes and would also help figure out which attributes to remove for further testing based on their weights. K nearest neighbors was chosen because while it was hard to visualize the data looking through the data in the csv file showed that certain instances had similar values for attributes and their seamed to be clusters. 5 was chosen instead of 7 because after testing both on the raw data they had similar results but 5 had a lower run time. A decision tree was used because the paper who had already learned the data used a random forest which is similar to a decision tree. Naive bayes was used because it performs better on less attributes so it may work well once attributes were simplified and removed. Random forest was used because it is what the authors of a paper that used the same dataset found worked best. Finally, a neural network was used because while it acts like a black box it can sometimes get surprising results. \n",
    "\n",
    "### Results\n",
    "\n",
    "There were multiple algorithms with similar results after manipulating the data. The main differences between the results was the processing time and the number of attributes required. Figure 1 shown below is a plot of all the models run times versus their accuracy. "
   ]
  },
  {
   "cell_type": "code",
   "execution_count": 6,
   "metadata": {},
   "outputs": [
    {
     "data": {
      "image/png": "[encoded data removed]",
      "text/plain": [
       "<Figure size 432x288 with 1 Axes>"
      ]
     },
     "metadata": {
      "needs_background": "light"
     },
     "output_type": "display_data"
    }
   ],
   "source": [
    "\n",
    "plotResultus = results + resultsSTD + resultsSTDDrop + resultsDrop\n",
    "plotTimes = timeList + timeListSTD + timeListSTDDrop + timeListDrop\n",
    "plt.plot(plotTimes, plotResultus,'b^')\n",
    "plt.axis()\n",
    "plt.show()"
   ]
  },
  {
   "cell_type": "markdown",
   "metadata": {},
   "source": [
    "The most accurate performing algorithm was the random forest on the unprocessed data, followed by random forest on the best attributes found from linear regression on the standard deviation over the seven days. The most accurate algorithm with the lowest run time is the 5 nearest neighbor algorithm found with only 35 attributes. \n",
    "\n",
    "|    Algorithm    | Accuracy | # of Attributes | Run Time (sec)|\n",
    "|-----------------|----------|-----------------|---------------|\n",
    "|  Random Forest  |   96.7   |       77        |      594      |\n",
    "|  Random Forest  |   96.6   |       35        |      272      |\n",
    "|Linear Regression|   96.5   |       77        |      518      |\n",
    "|Linear Regression|   96.5   |       35        |      103      |\n",
    "|      5-N-N      |   96.4   |       35        |       64      |\n",
    "|      5-N-N      |   96.3   |       77        |      295      |\n",
    "\n",
    "                                                      Fig 2. Table of Algorithm\n",
    "                                                      \n",
    "From this table it is clear that the best algorithms for this dataset are random forest, linear regression, and 5 nearest neighbors. After running a paired t-test on the 5 nearest neighbor from the manipulated data and the random forest of the raw data it is found that there is no statisticaly significant difference in the two models. As a result the best model for this task found in this paper is 5 nearest neighbors when only considering burstiness level, number of atomic containers, contribution sparseness , author interactions, and average discussion length. This is because it uses the least amount of attributes and has the fastest run time. The model in this experiment also performed better than the model found by  University of Grenoble Joseph Fourier Laboratory of Information which used a random forest with an accuracy of around 90 percent. \n",
    "\n",
    "### Conclusions\n",
    "\n",
    "The best performing model on this data was 5 nearest neighbors when only considering certain attributes over a seven day period. It was accurate around 96 percent of the time and outperformed a research paper on this dataset that was accurate around 90 percent of the time. While nearest neighbor is dependant on the order the instances are learned on, the fact that it worked consistantly well on the dataset with different attributes and number of attributes tells that it was not a fluke that nearest neighbor worked well. Nearest neighbor working well tells that the data is fairly clustered. Because the the number of attributes was cut to 5 attributes from 11 with seven time periods each resulting in 35 total attributes with statistcally insignificant differences tells that those attributes are the main things dividing the data into clusters. The main attributes were burstiness level how many people contributed in a certain amount of time, number of atomic containers, contribution sparseness how spread out over time the discussion was, author interactions how often the author interacted with others, and average discussion length. The attributes that were important were not suprising to me because I thought that interaction and duration of interaction would be imporntant for if a buzz event occured. What was suprising was the model used and that it was necessary to see the the data for each time period. I thought that naives bayes once I lowered the number of attributes. I also thought that the standard deviation of each attribute over multiple time periods would be more important than the actual value during each time period. I thought this because I figured a buzz event would have a high amount of deviation over multiple time periods while if there were no buzz everything would stay consistant.\n",
    "\n",
    "### Work Cited\n",
    "[1] Prédictions d’activité dans les réseaux sociaux en ligne (F. Kawala, A. Douzal-Chouakria, E. Gaussier, E. Dimert), In Actes de la Conférence sur les Modèles et l′Analyse des Réseaux : Approches Mathématiques et Informatique (MARAMI), pp. 16, 2013.\n",
    "\n",
    "[2] Pete Norman. 2019. U.S. Military to Trawl Through 350 Billion Social Media Messages. (May 2019). Retrieved June 13, 2019 from https://www.bloomberg.com/news/articles/2019-05-25/u-s-military-to-trawl-through-350-billion-social-media-messages\n",
    "\n",
    "[3] Telis Demos. 2018. Wall Street, Hedge Funds Add Social Media to Research Menu. (June 2018). Retrieved June 13, 2019 from https://www.wsj.com/articles/wall-street-hedge-funds-add-social-media-to-research-menu-1528041600\n",
    "\n",
    "[4] Anon. 2019. Social Media Analytics Market to Reach US$7.8 Bn by 2025; Increasing Active Users to Provide Impetus to Growth - TMR. (June 2019). Retrieved June 13, 2019 from https://finance.yahoo.com/news/social-media-analytics-market-reach-120000333.html "
   ]
  },
  {
   "cell_type": "code",
   "execution_count": null,
   "metadata": {},
   "outputs": [],
   "source": []
  }
 ],
 "metadata": {
  "kernelspec": {
   "display_name": "Python 3",
   "language": "python",
   "name": "python3"
  },
  "language_info": {
   "codemirror_mode": {
    "name": "ipython",
    "version": 3
   },
   "file_extension": ".py",
   "mimetype": "text/x-python",
   "name": "python",
   "nbconvert_exporter": "python",
   "pygments_lexer": "ipython3",
   "version": "3.8.3"
  }
 },
 "nbformat": 4,
 "nbformat_minor": 2
}
