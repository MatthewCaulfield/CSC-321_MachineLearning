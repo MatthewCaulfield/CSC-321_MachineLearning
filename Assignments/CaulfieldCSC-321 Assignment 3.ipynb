{
 "cells": [
  {
   "cell_type": "markdown",
   "metadata": {},
   "source": [
    "# CSC-321: Data Mining and Machine Learning\n",
    "## Assignment 3: Working with real data\n",
    "## Matthew Caulfield\n",
    "\n",
    "### Part 1: Loading Data\n",
    "\n",
    "We've been working with contrived data, but it's time to work with 'real' data. The data we will use will be in CSV format, and we'll know that it'll require minimum wrangling - but there are still things we will need to do. \n",
    "\n",
    "We're going to use the built-in python module csv to read our file. It will take a csv file and return a data structure that contains lists of list. where each list will be an instance of our data. However, those lists will contain strings, and we'll need to convert them to floats, on a column by column basis. \n",
    "\n",
    "There are two data sets on the homework page: the wine quality dataset and the Swedish insurance data set. Download them, and put them in the same directory as this notebook.\n",
    "\n",
    "(a) Read the overview of the csv module at: https://docs.python.org/3.1/library/csv.html\n",
    "\n",
    "Write a function called load_data(filename) that takes a filename (a string), uses the csv reader to read in a file, then iterates through that file one line at a time and appends it to a new list, which is then returned. \n",
    "\n",
    "(b) Call this function on the Swedish auto data set given, and use the returned information to print a nice string. That string should tell us:\n",
    "\n",
    "The name of the data set, the number of instances (that's the number of sublists), and the number of features (the columns in each sublist). \n",
    "\n",
    "(c) Print the first instance contained in the data set.\n",
    "\n",
    "For example, if I were to load the contrived data set given last week from csv I should load the data as:  \n",
    "\n",
    "[['1','1'],['2','3'],['4','3'],['3','2'],['5','5']] \n",
    "\n",
    "and report that there are 5 instances, with 2 features. I should then print:\n",
    "\n",
    "[['1','1']]\n",
    "\n",
    "Yes, at present, using this mechanism, the features will all be strings. We'll correct this later."
   ]
  },
  {
   "cell_type": "code",
   "execution_count": 1,
   "metadata": {
    "scrolled": true
   },
   "outputs": [
    {
     "name": "stdout",
     "output_type": "stream",
     "text": [
      "insurance number of rows 63 number of columns 2\n",
      "First entry of insurance ['108', '392.5']\n"
     ]
    }
   ],
   "source": [
    "import csv\n",
    "\n",
    "# Load the data\n",
    "def load_data(filename):\n",
    "    csvTxt = csv.reader(open(filename))\n",
    "    data = []\n",
    "    for row in csvTxt:\n",
    "        data.append(row)\n",
    "    return data\n",
    "\n",
    "# Print nicely\n",
    "insuranceData = load_data('insurance.csv')\n",
    "print('insurance', 'number of rows', len(insuranceData), 'number of columns', len(insuranceData[0]))\n",
    "print('First entry of insurance', insuranceData[0])\n"
   ]
  },
  {
   "cell_type": "markdown",
   "metadata": {},
   "source": [
    "(c) Now we need to convert the strings to floats. That might not always be true, so we want a way to select certain columns of our data, and turn the values into floats.\n",
    "\n",
    "Write a function called column2Float(dataset,column), that takes a dataset and a column number, and converts the elements in that column to from strings to floats. So if the data set contained:\n",
    "\n",
    "[['1','1'],['2','3'],['4','3'],['3','2'],['5','5']]\n",
    "\n",
    "and I called column2Float(dataset, 0), the dataset should be changed to be:\n",
    "\n",
    "[[1.0,'1'],[2.0,'3'],[4.0,'3'],[3.0,'2'],[5.0,'5']]\n",
    "\n",
    "Note. For memory efficiency, it's ok at this stage to make use of the the pass-by-reference nature of lists - that is, it's ok to make these changes in place, and NOT create or return another list.\n",
    "\n",
    "(d) Call your function string2Float on the swedish auto data set you loaded previously. Use a loop to iterate through each of the columns, changing each into float values.\n",
    "\n",
    "(e) Print the first line of the newly converted data set, to show that the entries are now floats."
   ]
  },
  {
   "cell_type": "code",
   "execution_count": 2,
   "metadata": {},
   "outputs": [
    {
     "name": "stdout",
     "output_type": "stream",
     "text": [
      "Converted first instance [108.0, 392.5]\n"
     ]
    }
   ],
   "source": [
    "# Write your converter function here\n",
    "def column2Float(dataset,column):\n",
    "    for instance in dataset:\n",
    "        instance[column] = float(instance[column])\n",
    "    return dataset\n",
    "\n",
    "# Apply to the loaded Swedish auto data here\n",
    "for column in range(len(insuranceData[0])):\n",
    "    column2Float(insuranceData, column)\n",
    "\n",
    "# Print nicely here\n",
    "print('Converted first instance', insuranceData[0])\n",
    "\n"
   ]
  },
  {
   "cell_type": "markdown",
   "metadata": {},
   "source": [
    "### Part 2: Applying to real data\n",
    "\n",
    "You probably noticed that the Swedish auto data set you loaded has only 2 features, which correspond to one input variable (x) and one output variable (y). Copy across your code for simple linear regression from last week, and run it on this data. I want to see:\n",
    "\n",
    "(a) A plot of x,y of the Swedish auto data\n",
    "(b) Some nice print out of a baseline of performance (What algorithm should you use?)\n",
    "(c) Some nice print out of the performance of simple linear regression\n",
    "(d) A line plot of the predicted y values made by simple linear regression\n",
    "(e) Some discussion of the results. This will NOT be extensive. Which algorithm (apparently) performs better, the baseline or slr? What do the results MEAN, if anything?\n",
    "\n",
    "You can find minimal information about the Swedish auto insurance data set here:\n",
    "http://college.cengage.com/mathematics/brase/understandable_statistics/7e/students/datasets/slr/frames/slr06.html"
   ]
  },
  {
   "cell_type": "code",
   "execution_count": 5,
   "metadata": {},
   "outputs": [
    {
     "data": {
      "image/png": "[encoded data removed]",
      "text/plain": [
       "<Figure size 432x288 with 1 Axes>"
      ]
     },
     "metadata": {
      "needs_background": "light"
     },
     "output_type": "display_data"
    },
    {
     "name": "stdout",
     "output_type": "stream",
     "text": [
      "ZeroR Baseline 98.18730158730159\n",
      "zeroRR RMSE: 86.632\n",
      "SLR RMSE: 35.366\n"
     ]
    },
    {
     "data": {
      "image/png": "[encoded data removed]",
      "text/plain": [
       "<Figure size 432x288 with 1 Axes>"
      ]
     },
     "metadata": {
      "needs_background": "light"
     },
     "output_type": "display_data"
    }
   ],
   "source": [
    "# Write your code for a through d here\n",
    "\n",
    "import math\n",
    "def mean(listOfValues):\n",
    "    total = 0\n",
    "    for num in listOfValues:\n",
    "        total += num\n",
    "    return total/len(listOfValues)\n",
    "\n",
    "def variance(listOfValues, meanValue):\n",
    "    total = 0\n",
    "    for num in listOfValues:\n",
    "       total +=  (num - meanValue)**2\n",
    "    return total\n",
    "\n",
    "def covariance(listOfX, meanOfX, listOfY, meanOfY):\n",
    "    total = 0\n",
    "    for i in range(len(listOfX)):\n",
    "        total += (listOfX[i] - meanOfX)*(listOfY[i]-meanOfY)\n",
    "    return total\n",
    "\n",
    "def coefficients(dataset):\n",
    "    dataX = [i[0] for i in dataset]\n",
    "    dataY = [i[1] for i in dataset]\n",
    "    meanX = mean(dataX)\n",
    "    meanY = mean(dataY)\n",
    "    b1 = covariance(dataX, meanX, dataY, meanY)/variance(dataX, meanX)\n",
    "    b0 = meanY-b1*meanX\n",
    "    return[b0, b1]\n",
    "\n",
    "def slr(train, test):\n",
    "    coeff = coefficients(train)\n",
    "    b0 = coeff[0]\n",
    "    b1 = coeff[1]\n",
    "    predictions = []\n",
    "    for i in test:\n",
    "        predictions.append(b0+b1*i[0])\n",
    "    return predictions\n",
    "\n",
    "def zeroRR(train, test):\n",
    "    trainY = [i[1] for i in train]\n",
    "    testY = [i[1] for i in test]\n",
    "\n",
    "    trainYMean = mean(trainY)\n",
    "    predictions = []\n",
    "    for i in testY:\n",
    "        predictions.append(trainYMean)\n",
    "    return predictions\n",
    "\n",
    "#2a\n",
    "import matplotlib.pyplot as plt\n",
    "plotDataX = [i[0] for i in insuranceData]\n",
    "plotDataY = [i[1] for i in insuranceData]\n",
    "plt.plot(plotDataX, plotDataY,'b^')\n",
    "plt.show()\n",
    "#2b\n",
    "def evaluate_algorithm(dataset, algorithm, metric):\n",
    "    train = dataset\n",
    "    test = [[i[0], None] for i in dataset]\n",
    "    predicted = algorithm(train,test)\n",
    "    actual = [i[1] for i in dataset]\n",
    "    result = metric(actual,predicted)\n",
    "    return result\n",
    "\n",
    "def rmse_eval(actual, predicted):\n",
    "    error = 0.0\n",
    "    for i in range(len(actual)):\n",
    "        error += (predicted[i] - actual[i])**2\n",
    "    error = error/len(actual)\n",
    "    error = error**0.5\n",
    "    return error\n",
    "\n",
    "predictionsZeroR = zeroRR(insuranceData, insuranceData)\n",
    "zeroRR_result = evaluate_algorithm(insuranceData,zeroRR,rmse_eval)\n",
    "print(\"ZeroR Baseline\", predictionsZeroR[0])\n",
    "print('zeroRR RMSE: %.3f' % zeroRR_result)\n",
    "\n",
    "#2c\n",
    "predictions = slr(insuranceData, insuranceData)\n",
    "slr_result = evaluate_algorithm(insuranceData,slr,rmse_eval)\n",
    "\n",
    "print('SLR RMSE: %.3f' % slr_result)\n",
    "\n",
    "#2d\n",
    "plt.plot(plotDataX, predictions, 'g')\n",
    "plt.show()"
   ]
  },
  {
   "cell_type": "markdown",
   "metadata": {},
   "source": [
    "#### Part 2 Discussion Here\n",
    "\n",
    "The results are meaningless because we have no test data to compare how it predicts non training data. Based off of rmse of just training data the linear regression is better. \n",
    "\n"
   ]
  },
  {
   "cell_type": "markdown",
   "metadata": {},
   "source": [
    "### Part 3: Normalization\n",
    "\n",
    "When working with data that has multiple inputs, we often want to normalize the data, so that it's all on the same scale (usually 0-1). The steps to do that are below. \n",
    "\n",
    "(a) Write a function minmax(dataset) that goes through your data set, and returns a list of lists. Each sublist should contain the min and the max of each column in your data. \n",
    "\n",
    "(b) Write a function called normalize(dataset, minmax). That code should go through each row in your data set (each instance), and normalize each value. The argument minmax should be the contents of a list as in part (f), above. The function to normalize a value, if you know the min and the max values of the column of data in which the value appears is:\n",
    "\n",
    "normalized value = value - minOfColumn / maxOfColumn - minOfColumn\n",
    "\n",
    "For testing, I give you the data set below, and in comments, the output of both the minmax function, and the resulting normalized data set so you can check your function\n",
    "\n",
    "(c) Run your code on the wine quality data set. You will need to:\n",
    "- Load it\n",
    "- Convert it to floats\n",
    "- Normalize it\n",
    "When complete, print the first line of data at each step - so I should see a line corresponding to when the data was loaded, a line after conversion to floats, and a line after normalization."
   ]
  },
  {
   "cell_type": "code",
   "execution_count": 4,
   "metadata": {},
   "outputs": [
    {
     "name": "stdout",
     "output_type": "stream",
     "text": [
      "minmax [[20, 400], [25, 90], [19, 100]]\n",
      "normalize [[0.07894736842105263, 0.07692307692307693, 1.0], [0.0, 1.0, 0.09876543209876543], [0.21052631578947367, 0.3076923076923077, 0.5432098765432098], [1.0, 0.0, 0.0]]\n",
      "loaded wine data ['7', '0.27', '0.36', '20.7', '0.045', '45', '170', '1.001', '3', '0.45', '8.8', '6']\n",
      "wine data as floats [7.0, 0.27, 0.36, 20.7, 0.045, 45.0, 170.0, 1.001, 3.0, 0.45, 8.8, 6.0]\n",
      "wine data normalized [0.30769230769230776, 0.18627450980392157, 0.21686746987951808, 0.308282208588957, 0.10682492581602374, 0.14982578397212543, 0.37354988399071926, 0.26778484673221237, 0.25454545454545446, 0.26744186046511625, 0.12903225806451626, 0.5]\n"
     ]
    }
   ],
   "source": [
    "# Write minmax and normalize here\n",
    "def minmax(dataset):\n",
    "    listMinMax = []\n",
    "    for column in range(len(dataset[0])):\n",
    "        columnData = [dataset[i][column] for i in range(len(dataset))]\n",
    "        listMinMax.append([min(columnData), max(columnData)])\n",
    "    return listMinMax\n",
    "\n",
    "def normalize(dataset, minmax):\n",
    "    for row in range(len(dataset)):\n",
    "        for column in range(len(dataset[row])):\n",
    "            dataset[row][column] = (dataset[row][column] - minmax[column][0]) / (minmax[column][1] - minmax[column][0])\n",
    "\n",
    "# Test on the following\n",
    "\n",
    "dataset = [[50, 30, 100], \n",
    "           [20, 90, 27], \n",
    "           [100, 45, 63], \n",
    "           [400, 25, 19]]\n",
    "\n",
    "# minmax should return: [[20, 400], [25, 90], [19, 100]]\n",
    "# normalized data should be:\n",
    "# [[0.07894736842105263, 0.07692307692307693, 1.0], [0.0, 1.0, 0.09876543209876543], [0.21052631578947367, 0.3076923076923077, 0.5432098765432098], [1.0, 0.0, 0.0]]\n",
    "minmaxData = minmax(dataset)\n",
    "normalize(dataset, minmaxData)\n",
    "print('minmax', minmaxData)\n",
    "print('normalize', dataset)\n",
    "\n",
    "# Then test on the wine quality dataset\n",
    "\n",
    "wineData = load_data('winequality-white.csv')\n",
    "print('loaded wine data', wineData[0])\n",
    "for column in range(len(wineData[0])):\n",
    "    column2Float(wineData, column)\n",
    "print('wine data as floats', wineData[0])\n",
    "minmaxWine = minmax(wineData)\n",
    "normalize(wineData, minmaxWine)\n",
    "print('wine data normalized', wineData[0])\n",
    "\n"
   ]
  },
  {
   "cell_type": "code",
   "execution_count": null,
   "metadata": {},
   "outputs": [],
   "source": []
  }
 ],
 "metadata": {
  "kernelspec": {
   "display_name": "Python 3",
   "language": "python",
   "name": "python3"
  },
  "language_info": {
   "codemirror_mode": {
    "name": "ipython",
    "version": 3
   },
   "file_extension": ".py",
   "mimetype": "text/x-python",
   "name": "python",
   "nbconvert_exporter": "python",
   "pygments_lexer": "ipython3",
   "version": "3.7.1"
  }
 },
 "nbformat": 4,
 "nbformat_minor": 2
}
