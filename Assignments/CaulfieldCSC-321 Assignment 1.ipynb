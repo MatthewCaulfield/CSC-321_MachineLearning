{
 "cells": [
  {
   "cell_type": "markdown",
   "metadata": {},
   "source": [
    "# CSC-321: Data Mining and Machine Learning\n",
    "## Assignment 1: List comprehension and numpy\n",
    "\n",
    "### Part 1: List comprehension, list indexing\n",
    "First, read the tutorial at: https://www.programiz.com/python-programming/list-comprehension\n",
    "\n",
    "Take the following list, below, and use list comprehension to complete the following. You must use list comprehension, and you mmust start with the original list (startList) each time. \n",
    "\n",
    "(a) Create a new list from every other element, starting at index 0\n",
    "\n",
    "(b) Create a new list that contains True for each element in the original list that is even, False if it is odd\n",
    "\n",
    "(c) Create a new list that replaces the values in the original list with 1, 2 or 3 under the following conditions. If the value is less than 3, make the new value 1, if it's greater than or equal to 3. but below 6, make it equal to 2, otherwise make it 3\n",
    "\n",
    "(d) Use slicing to make a shallow copy of the complete list. To test, change one element of your new list, and print both lists. Make sure ONLY your new list changes (because lists are pass-by-reference)\n",
    "\n",
    "(e) Go through the list of lists contained in the variable data, and extract all elements from each list EXCEPT the last one, and put into a new list of lists. You must use list comprehension.\n",
    "\n",
    "e.g. the output should be: [[1, 2], [4, 5], [7, 8], [10, 11]]\n",
    "\n",
    "(f) Go through the list of lists contained in the variable data, and create a single list containing ONLY the last element of each nested list. You must use list comprehension.\n",
    "\n",
    "e.g. the output should be: [3, 6, 9, 12]"
   ]
  },
  {
   "cell_type": "code",
   "execution_count": 1,
   "metadata": {},
   "outputs": [
    {
     "name": "stdout",
     "output_type": "stream",
     "text": [
      "[2, 1, 1, 8, 2, 5]\n",
      "[True, False, False, False, False, True, True, True, True, False, False]\n",
      "[1, 3, 1, 3, 1, 2, 3, 3, 1, 2, 2]\n",
      "listD [2, 9, 1, 9, 1, 4, 8, 10, 2, 3, 5]\n",
      "startList [2, 7, 1, 9, 1, 4, 8, 10, 2, 3, 5]\n",
      "[[1, 2], [4, 5], [7, 8], [10, 11]]\n",
      "[3, 6, 9, 12]\n"
     ]
    }
   ],
   "source": [
    "# Use this list for a-d above\n",
    "\n",
    "startList = [2, 7, 1, 9, 1, 4, 8, 10, 2, 3, 5]\n",
    "\n",
    "#Part 1A\n",
    "listA = [startList[i] for i in range(len(startList)) if i%2 == 0]\n",
    "print(listA)\n",
    "\n",
    "#Part 1B\n",
    "listB = [True if num%2 == 0 else False for num in startList]\n",
    "print(listB)\n",
    "\n",
    "#Part 1C\n",
    "listC = [1 if num < 3 else 2 if 3<=num<6 else 3 for num in startList]\n",
    "print(listC)\n",
    "\n",
    "#Part 1D\n",
    "listD = startList[:]\n",
    "listD[1] = 9\n",
    "print('listD', listD)\n",
    "print('startList', startList)\n",
    "\n",
    "# Use this list for e-f above\n",
    "\n",
    "data = [[1,2,3],[4,5,6],[7,8,9],[10,11,12]]\n",
    "\n",
    "#Part 1E\n",
    "listE = [aList[:-1] for aList in data]\n",
    "print(listE)\n",
    "\n",
    "#Part 1F\n",
    "listF = [aList[len(aList)-1] for aList in data]\n",
    "print(listF)\n"
   ]
  },
  {
   "cell_type": "markdown",
   "metadata": {},
   "source": [
    "### Part 2: Multiple return values\n",
    "\n",
    "Read the tutorial at: https://www.tutorialspoint.com/How-do-we-return-multiple-values-in-Python\n",
    "\n",
    "(a) Write a function called minmax, that takes a list as a single argument, and returns two values as a tuple - the minimum value in the list, and the maximum value in a list. \n",
    "\n",
    "(b) Use the random.randint(a,b) function to create a list filled with 100 random integers in the range 0 to 100 (inclusive).\n",
    "\n",
    "(c) Pass this list to your function from (a), capture the two return values into TWO distinct variables, and print them nicely! (i.e. Print two, distinct, meaningful output messages, not just the tuple returned)."
   ]
  },
  {
   "cell_type": "code",
   "execution_count": 16,
   "metadata": {},
   "outputs": [
    {
     "name": "stdout",
     "output_type": "stream",
     "text": [
      "list min is 0\n",
      "list max is 98\n"
     ]
    }
   ],
   "source": [
    "import random\n",
    "\n",
    "#part 2a\n",
    "def minmax(aList):\n",
    "    return min(aList),max(aList)\n",
    "\n",
    "#part 2b\n",
    "randList = [random.randint(0, 100) for i in range(100)]\n",
    "\n",
    "#part 2c\n",
    "aMin, aMax = minmax(randList)\n",
    "print('list min is', aMin)\n",
    "print('list max is', aMax)\n"
   ]
  },
  {
   "cell_type": "markdown",
   "metadata": {},
   "source": [
    "### Part 3: Numpy\n",
    "\n",
    "Read the tutorial at: https://machinelearningmastery.com/index-slice-reshape-numpy-arrays-machine-learning-python/\n",
    "You may also want to check the following for information on array indexing in more detail: https://www.tutorialspoint.com/numpy/numpy_indexing_and_slicing.htm\n",
    "\n",
    "Then work on the following:\n",
    "\n",
    "(a) convert the startList to a one dimensional array. Print this array, and it's shape. Nicely.\n",
    "\n",
    "(b) convert the startList into a two dimensional array, of 4 rows of 3 columns. Print this array, and it's shape. Nicely.\n",
    "\n",
    "(c) use array slicing on (b) to produce similar output to 1(e) and 1(f) above. One variable containing 4 rows of 2 columns (all the data EXCEPT the last column from each row), and one variable that is a 4 by 1 array, containing the values from the last column. You will need to reshape this last variable (so a (4,) shape is not acceptable, but a (4,1) is). "
   ]
  },
  {
   "cell_type": "code",
   "execution_count": 35,
   "metadata": {},
   "outputs": [
    {
     "name": "stdout",
     "output_type": "stream",
     "text": [
      "data in array form [12 26 18  1 15 18 12 19  2  7  4  9]\n",
      "shape of one dimensional array (12,)\n",
      "data in 2D array form [[12 26 18]\n",
      " [ 1 15 18]\n",
      " [12 19  2]\n",
      " [ 7  4  9]]\n",
      "shape of one dimensional array (4, 3)\n",
      "startList like 1e [[12 26]\n",
      " [ 1 15]\n",
      " [12 19]\n",
      " [ 7  4]]\n",
      "startList like 1f [[18]\n",
      " [18]\n",
      " [ 2]\n",
      " [ 9]]\n"
     ]
    }
   ],
   "source": [
    "import numpy as np\n",
    "\n",
    "#part 3A\n",
    "startList = [12,26,18,1,15,18,12,19,2,7,4,9]\n",
    "data = np.array(startList)\n",
    "print('data in array form', data)\n",
    "print('shape of one dimensional array', data.shape)\n",
    "\n",
    "#part 3B\n",
    "data2D = np.array(startList)\n",
    "data2D = data2D.reshape(4, 3)\n",
    "print('data in 2D array form', data2D)\n",
    "print('shape of one dimensional array', data2D.shape)\n",
    "\n",
    "#part 3C\n",
    "array1E = data2D[:,:-1]\n",
    "array1F = data2D[:,-1:]\n",
    "array1F = array1F.reshape(4,1)\n",
    "print('startList like 1e', array1E)\n",
    "print('startList like 1f', array1F)"
   ]
  },
  {
   "cell_type": "code",
   "execution_count": null,
   "metadata": {},
   "outputs": [],
   "source": []
  }
 ],
 "metadata": {
  "kernelspec": {
   "display_name": "Python 3",
   "language": "python",
   "name": "python3"
  },
  "language_info": {
   "codemirror_mode": {
    "name": "ipython",
    "version": 3
   },
   "file_extension": ".py",
   "mimetype": "text/x-python",
   "name": "python",
   "nbconvert_exporter": "python",
   "pygments_lexer": "ipython3",
   "version": "3.7.1"
  }
 },
 "nbformat": 4,
 "nbformat_minor": 2
}
