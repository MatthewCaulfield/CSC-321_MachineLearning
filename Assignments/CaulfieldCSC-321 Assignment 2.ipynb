{
 "cells": [
  {
   "cell_type": "markdown",
   "metadata": {},
   "source": [
    "# CSC-321: Data Mining and Machine Learning\n",
    "## Assignment 2: Simple Linear Regression\n",
    "\n",
    "### Part 1: Implementing SLR\n",
    "\n",
    "Refer to the class slides for an overview of how simple linear regression works. Then implement the following algorithms. I will NOT be grading you on the style elements of your code (although I may give feedback) however you should try to use good programming style, especially with respect to variable names, spacing and sensible code choices.\n",
    "\n",
    "Take the contrived list of data given, where the first element in each list is the input data, x, and the second element is the target value, y.\n",
    "\n",
    "(a) First, read the following example page for matplotlib, and create a plot of the points in the data set. Make the data points blue triangles. Make the axis in both directions range from 0 to 6.\n",
    "\n",
    "https://matplotlib.org/users/pyplot_tutorial.html\n"
   ]
  },
  {
   "cell_type": "code",
   "execution_count": 10,
   "metadata": {},
   "outputs": [
    {
     "data": {
      "image/png": "[encoded data removed]",
      "text/plain": [
       "<Figure size 432x288 with 1 Axes>"
      ]
     },
     "metadata": {
      "needs_background": "light"
     },
     "output_type": "display_data"
    }
   ],
   "source": [
    "import matplotlib.pyplot as plt\n",
    "\n",
    "# Use this dataset for all examples\n",
    "\n",
    "dataset = [[1,1],[2,3],[4,3],[3,2],[5,5]]\n",
    "#1A\n",
    "plotDataX = [i[0] for i in dataset]\n",
    "plotDataY = [i[1] for i in dataset]\n",
    "plt.plot(plotDataX, plotDataY,'b^')\n",
    "plt.axis([0,6,0,6])\n",
    "plt.show()\n"
   ]
  },
  {
   "cell_type": "markdown",
   "metadata": {},
   "source": [
    "(b) Create a function that returns the mean for a list of values, with the signature: mean(listOfValues)\n",
    "\n",
    "(c) Create a function that computes the variance of a list of values. NOTE - NOT the average variance, the total. That is, for each value of x, subtract the mean and square the result. Sum the resulting values, and return. Give the function the signature: variance(listOfValues,meanValue)\n",
    "\n",
    "(d) Create a function that computes the covariance between two lists of numbers. Given two lists (x and y), and two means for those lists, for each value in x, subtract the mean of x, and then multiply by the corresponding value of (y minus the mean of y). Sum the resulting values and return. The function should have the signature: covariance(listofX, meanOfX, listOfY, meanOfY)\n",
    "\n",
    "(e) Using your functions above, write a function that given a dataset such as the one specified above, and computes the two coefficients, b1 and b0. Remember, b1 is computed by dividing the covariance of x and y by the variance of x. b0 is computed by taking the mean of y, and subtracting b1 multiplied by the mean of x from it. Return the two coefficients, b0 and b1, in that order, in a single list. The function should have the signature coefficients(dataset)\n",
    "\n",
    "(f) Add code for testing that calls your coefficients function, with the dataset above. Print both of the resulting coefficients nicely."
   ]
  },
  {
   "cell_type": "code",
   "execution_count": 11,
   "metadata": {},
   "outputs": [
    {
     "name": "stdout",
     "output_type": "stream",
     "text": [
      "B0 for dataset 0.39999999999999947\n",
      "B1 for dataset 0.8\n"
     ]
    }
   ],
   "source": [
    "# Write your functions b thru e here\n",
    "import math\n",
    "#1b\n",
    "def mean(listOfValues):\n",
    "    total = 0\n",
    "    for num in listOfValues:\n",
    "        total += num\n",
    "    return total/len(listOfValues)\n",
    "\n",
    "#1c\n",
    "def variance(listOfValues, meanValue):\n",
    "    total = 0\n",
    "    for num in listOfValues:\n",
    "       total +=  (num - meanValue)**2\n",
    "    return total\n",
    "\n",
    "#1d\n",
    "def covariance(listOfX, meanOfX, listOfY, meanOfY):\n",
    "    total = 0\n",
    "    for i in range(len(listOfX)):\n",
    "        total += (listOfX[i] - meanOfX)*(listOfY[i]-meanOfY)\n",
    "    return total\n",
    "\n",
    "#1e\n",
    "def coefficients(dataset):\n",
    "    dataX = [i[0] for i in dataset]\n",
    "    dataY = [i[1] for i in dataset]\n",
    "    meanX = mean(dataX)\n",
    "    meanY = mean(dataY)\n",
    "    b1 = covariance(dataX, meanX, dataY, meanY)/variance(dataX, meanX)\n",
    "    b0 = meanY-b1*meanX\n",
    "    return[b0, b1]\n",
    "    \n",
    "#1f\n",
    "testb0b1 = coefficients(dataset)\n",
    "print('B0 for dataset', testb0b1[0])\n",
    "print('B1 for dataset', testb0b1[1])\n"
   ]
  },
  {
   "cell_type": "markdown",
   "metadata": {},
   "source": [
    "(g) Now you have sufficient functionality to write a function to make predictions using simple linear regression. Create a function with the signature slg(train,test). Training data is data containing the features of the data AND the class. Testing data contains the features, but does NOT contain a class (instead it should hold the value None in place of the class entry). Remember None is a special keyword in python: https://www.w3schools.com/python/ref_keyword_none.asp\n",
    "\n",
    "We're going to use the same dataset here for both training and testing. Does this seem like a good idea? We'll talk about it in class later. \n",
    "\n",
    "Here's the slg algorithm. We're going to create our coefficients from the training data. We're going to create a new list, to hold our predicitions. Then for each entry in the testing data, we're going to read the input value, and apply the formula y = b0 + b1 * x(i)\n",
    "\n",
    "For each entry in the test data, we're going to append our predicted y value. We're going to return our list of predictions.\n",
    "\n",
    "(h) Add code for testing that calls your slg function, with the dataset above as both training and testing. Print the input and the predicted output.\n",
    "\n",
    "(i) Recreate the plot from (a) above, plotting the points the same as before. But this time ALSO plot a line (x against predicted y) in red, that shows how well the slg algorithm is modeling the output. "
   ]
  },
  {
   "cell_type": "code",
   "execution_count": 12,
   "metadata": {},
   "outputs": [
    {
     "name": "stdout",
     "output_type": "stream",
     "text": [
      "input x values: [1, 2, 4, 3, 5]\n",
      "predicted outputs: [1.1999999999999995, 1.9999999999999996, 3.5999999999999996, 2.8, 4.3999999999999995]\n"
     ]
    },
    {
     "data": {
      "image/png": "[encoded data removed]",
      "text/plain": [
       "<Figure size 432x288 with 1 Axes>"
      ]
     },
     "metadata": {
      "needs_background": "light"
     },
     "output_type": "display_data"
    }
   ],
   "source": [
    "# Write the function slg(train,test) here\n",
    "def slr(train, test):\n",
    "    coeff = coefficients(train)\n",
    "    b0 = coeff[0]\n",
    "    b1 = coeff[1]\n",
    "    predictions = []\n",
    "    for i in test:\n",
    "        predictions.append(b0+b1*i[0])\n",
    "    return predictions\n",
    "    \n",
    "\n",
    "\n",
    "# Call the function slg below\n",
    "predictions = slr(dataset, dataset)\n",
    "plotDataX = [i[0] for i in dataset]\n",
    "print('input x values:', plotDataX )\n",
    "print('predicted outputs:', predictions)\n",
    "\n",
    "\n",
    "# Plot the results\n",
    "plotDataY = [i[1] for i in dataset]\n",
    "plt.plot(plotDataX, plotDataY,'b^')\n",
    "plt.plot(plotDataX, predictions, 'r')\n",
    "plt.axis([0,6,0,6])\n",
    "plt.show()\n",
    "\n"
   ]
  },
  {
   "cell_type": "markdown",
   "metadata": {},
   "source": [
    "### Part 2: Implementing zeroR\n",
    "\n",
    "In class we learned about the zeroR algorithm. For regression, that means that we will always predict the mean value of the y variable - the target. \n",
    "\n",
    "(a) Write the function zeroRR (for regression) below. This function will take two arguments, train and test data. It will take the last value of each input instance in the data set as the target value, y and compute the mean from those values. For prediction, it will assign this mean to every input variable as predicted output. Return the list of predictions. \n",
    "\n",
    "(b) Add code for testing that calls your zeroRR function, with the dataset above as both training and testing. Print the input and the predicted output.\n",
    "\n",
    "(c) Recreate the plot from (i) in Part 1, above. Plot the points, the predicted output y from the slg algorithm, and the predicted output y from the zeroRR algorithm as another line, this time in green."
   ]
  },
  {
   "cell_type": "code",
   "execution_count": 13,
   "metadata": {},
   "outputs": [
    {
     "name": "stdout",
     "output_type": "stream",
     "text": [
      "input x values: [1, 2, 4, 3, 5]\n",
      "predicted outputs for zeroR: [2.8, 2.8, 2.8, 2.8, 2.8]\n"
     ]
    },
    {
     "data": {
      "image/png": "[encoded data removed]",
      "text/plain": [
       "<Figure size 432x288 with 1 Axes>"
      ]
     },
     "metadata": {
      "needs_background": "light"
     },
     "output_type": "display_data"
    }
   ],
   "source": [
    "# Write the function zeroRR(train,test) here\n",
    "def zeroRR(train, test):\n",
    "    trainY = [i[1] for i in train]\n",
    "    testY = [i[1] for i in test]\n",
    "\n",
    "    trainYMean = mean(trainY)\n",
    "    predictions = []\n",
    "    for i in testY:\n",
    "        predictions.append(trainYMean)\n",
    "    return predictions\n",
    "\n",
    "\n",
    "\n",
    "# Call the function zeroRR below\n",
    "predictionsZeroR = zeroRR(dataset, dataset)\n",
    "plotDataX = [i[0] for i in dataset]\n",
    "print('input x values:', plotDataX )\n",
    "print('predicted outputs for zeroR:', predictionsZeroR)\n",
    "\n",
    "# Plot the results\n",
    "\n",
    "plotDataY = [i[1] for i in dataset]\n",
    "plt.plot(plotDataX, plotDataY,'b^')\n",
    "plt.plot(plotDataX, predictions, 'r')\n",
    "plt.plot(plotDataX, predictionsZeroR, 'g')\n",
    "plt.axis([0,6,0,6])\n",
    "plt.show()\n"
   ]
  },
  {
   "cell_type": "markdown",
   "metadata": {},
   "source": [
    "### Part 3: Evaluating output\n",
    "\n",
    "We want to be able to evaluate the output of our algorithms. We will implement the RMSE algorithm for evaluating performance. This function will take two lists of values - actual y values and predicted y values.\n",
    "\n",
    "(a) Write a function that calculates RMSE. It starts with an error of 0.0, It then goes through each actual y value in the actual list, and calculates the prediction error, by taking the actual value away from the predicted value, and squares the error. Those squared errors are summed for all instances and then the average squared error is calculated, dividng the sum of the square errors by the number of predictions. Return the square root of that average error."
   ]
  },
  {
   "cell_type": "code",
   "execution_count": 14,
   "metadata": {},
   "outputs": [],
   "source": [
    "# Write the function rmse_eval(actual,predicted) below\n",
    "def rmse_eval(actual, predicted):\n",
    "    error = 0.0\n",
    "    for i in range(len(actual)):\n",
    "        error += (predicted[i] - actual[i])**2\n",
    "    error = error/len(actual)\n",
    "    error = error**0.5\n",
    "    return error\n",
    "\n",
    "\n"
   ]
  },
  {
   "cell_type": "markdown",
   "metadata": {},
   "source": [
    "### Part 4: Putting it all together\n",
    "\n",
    "Below I have provided code that SHOULD work, if you've written everything correctly. You do need to specifiy THREE lists. train will be the same as dataset. Test will also be the same, BUT the last element of each instance should be None. Actual is just the list of the last element from each instance. Make sure when you are copying, slicing and replacing that you have three distinct lists.\n",
    "\n",
    "Notice how I have a generic function to evaluate an algorithm, where the algorithm and the evaluation metric are passed as arguments. DO NOT change this code, other than to define the lists required.\n",
    "\n",
    "FINALLY, add a comment after the last line of code below, telling me which algorithm works better, simple linear regression or zeroRR."
   ]
  },
  {
   "cell_type": "code",
   "execution_count": 15,
   "metadata": {},
   "outputs": [
    {
     "name": "stdout",
     "output_type": "stream",
     "text": [
      "SLR RMSE: 0.693\n",
      "zeroRR RMSE: 1.327\n"
     ]
    }
   ],
   "source": [
    "# code to evaluate an algorithm, using a train/test split\n",
    "\n",
    "def evaluate_algorithm(dataset, algorithm, metric):\n",
    "    train = dataset\n",
    "    test = [[i[0], None] for i in dataset]\n",
    "    predicted = algorithm(train,test)\n",
    "    actual = [i[1] for i in dataset]\n",
    "    result = metric(actual,predicted)\n",
    "    return result\n",
    "\n",
    "\n",
    "# Testing simple linear regression\n",
    "\n",
    "dataset = [[1,1],[2,3],[4,3],[3,2],[5,5]]\n",
    "slr_result = evaluate_algorithm(dataset,slr,rmse_eval)\n",
    "zeroRR_result = evaluate_algorithm(dataset,zeroRR,rmse_eval)\n",
    "\n",
    "print('SLR RMSE: %.3f' % slr_result)\n",
    "print('zeroRR RMSE: %.3f' % zeroRR_result)\n",
    "\n",
    "#simple linear regression works better because its error is only 0.692 compared\n",
    "#to 1.327 for zeroRR"
   ]
  },
  {
   "cell_type": "code",
   "execution_count": null,
   "metadata": {},
   "outputs": [],
   "source": []
  }
 ],
 "metadata": {
  "kernelspec": {
   "display_name": "Python 3",
   "language": "python",
   "name": "python3"
  },
  "language_info": {
   "codemirror_mode": {
    "name": "ipython",
    "version": 3
   },
   "file_extension": ".py",
   "mimetype": "text/x-python",
   "name": "python",
   "nbconvert_exporter": "python",
   "pygments_lexer": "ipython3",
   "version": "3.7.1"
  }
 },
 "nbformat": 4,
 "nbformat_minor": 2
}
